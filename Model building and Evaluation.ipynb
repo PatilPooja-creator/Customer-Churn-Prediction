{
 "cells": [
  {
   "cell_type": "code",
   "execution_count": 1,
   "id": "37d9f139",
   "metadata": {},
   "outputs": [],
   "source": [
    "#Importing Required Libraries\n",
    "import pickle\n",
    "import matplotlib.pyplot as plt\n",
    "import seaborn as sns\n",
    "from sklearn.tree import DecisionTreeClassifier\n",
    "from sklearn.ensemble import RandomForestClassifier\n",
    "from sklearn.naive_bayes import GaussianNB\n",
    "from sklearn.neighbors import KNeighborsClassifier\n",
    "from sklearn.svm import SVC\n",
    "from sklearn.neural_network import MLPClassifier\n",
    "from sklearn.ensemble import AdaBoostClassifier\n",
    "from sklearn.ensemble import GradientBoostingClassifier\n",
    "from sklearn.ensemble import ExtraTreesClassifier\n",
    "from sklearn.linear_model import LogisticRegression\n",
    "from sklearn.model_selection import train_test_split\n",
    "from sklearn.metrics import accuracy_score\n",
    "from sklearn import metrics\n",
    "from sklearn.metrics import roc_curve\n",
    "from sklearn.metrics import recall_score, confusion_matrix, precision_score, f1_score, accuracy_score, classification_report\n",
    "\n",
    "import warnings\n",
    "warnings.filterwarnings('ignore')"
   ]
  },
  {
   "cell_type": "markdown",
   "id": "d830746c",
   "metadata": {},
   "source": [
    "## Load dataset"
   ]
  },
  {
   "cell_type": "code",
   "execution_count": 2,
   "id": "8830d845",
   "metadata": {},
   "outputs": [],
   "source": [
    "with open('dataset_dict.pickle', 'rb') as file:\n",
    "    dataset_dict = pickle.load(file)"
   ]
  },
  {
   "cell_type": "code",
   "execution_count": 3,
   "id": "cddcfeaf",
   "metadata": {},
   "outputs": [],
   "source": [
    "X_train = dataset_dict['X_train']\n",
    "y_train = dataset_dict['y_train']\n",
    "X_test = dataset_dict['X_test']\n",
    "y_test = dataset_dict['y_test']"
   ]
  },
  {
   "cell_type": "markdown",
   "id": "2d2acdb5",
   "metadata": {},
   "source": [
    "## KNN classifier"
   ]
  },
  {
   "cell_type": "code",
   "execution_count": 4,
   "id": "a16ddb3e",
   "metadata": {},
   "outputs": [
    {
     "name": "stdout",
     "output_type": "stream",
     "text": [
      "KNN accuracy: 0.885\n"
     ]
    }
   ],
   "source": [
    "knn_model = KNeighborsClassifier(n_neighbors = 11) \n",
    "knn_model.fit(X_train,y_train)\n",
    "predicted_y = knn_model.predict(X_test)\n",
    "accuracy_knn = knn_model.score(X_test,y_test)\n",
    "print(\"KNN accuracy:\",accuracy_knn)"
   ]
  },
  {
   "cell_type": "code",
   "execution_count": 5,
   "id": "0c3dc088",
   "metadata": {},
   "outputs": [
    {
     "name": "stdout",
     "output_type": "stream",
     "text": [
      "              precision    recall  f1-score   support\n",
      "\n",
      "         0.0       0.89      1.00      0.94       521\n",
      "         1.0       0.86      0.15      0.26        79\n",
      "\n",
      "    accuracy                           0.89       600\n",
      "   macro avg       0.87      0.57      0.60       600\n",
      "weighted avg       0.88      0.89      0.85       600\n",
      "\n"
     ]
    }
   ],
   "source": [
    "print(classification_report(y_test, predicted_y))"
   ]
  },
  {
   "cell_type": "markdown",
   "id": "c1b3c862",
   "metadata": {},
   "source": [
    "## SVM classifier"
   ]
  },
  {
   "cell_type": "code",
   "execution_count": 6,
   "id": "68211f88",
   "metadata": {},
   "outputs": [
    {
     "name": "stdout",
     "output_type": "stream",
     "text": [
      "SVM accuracy is : 0.885\n"
     ]
    }
   ],
   "source": [
    "svc_model = SVC(random_state = 1)\n",
    "svc_model.fit(X_train,y_train)\n",
    "predict_y = svc_model.predict(X_test)\n",
    "accuracy_svc = svc_model.score(X_test,y_test)\n",
    "print(\"SVM accuracy is :\",accuracy_svc)"
   ]
  },
  {
   "cell_type": "code",
   "execution_count": 7,
   "id": "49ab5a42",
   "metadata": {},
   "outputs": [
    {
     "name": "stdout",
     "output_type": "stream",
     "text": [
      "              precision    recall  f1-score   support\n",
      "\n",
      "         0.0       0.89      1.00      0.94       521\n",
      "         1.0       0.86      0.15      0.26        79\n",
      "\n",
      "    accuracy                           0.89       600\n",
      "   macro avg       0.87      0.57      0.60       600\n",
      "weighted avg       0.88      0.89      0.85       600\n",
      "\n"
     ]
    }
   ],
   "source": [
    "print(classification_report(y_test, predict_y))"
   ]
  },
  {
   "cell_type": "markdown",
   "id": "21a38630",
   "metadata": {},
   "source": [
    "## RandomForest Classifier"
   ]
  },
  {
   "cell_type": "code",
   "execution_count": 8,
   "id": "22adaa93",
   "metadata": {},
   "outputs": [
    {
     "name": "stdout",
     "output_type": "stream",
     "text": [
      "0.9116666666666666\n"
     ]
    }
   ],
   "source": [
    "model_rf = RandomForestClassifier(n_estimators=500 , oob_score = True, n_jobs = -1,\n",
    "                                  random_state =50, max_features = \"auto\",\n",
    "                                  max_leaf_nodes = 30)\n",
    "model_rf.fit(X_train, y_train)\n",
    "\n",
    "# Make predictions\n",
    "prediction_test = model_rf.predict(X_test)\n",
    "print (metrics.accuracy_score(y_test, prediction_test))"
   ]
  },
  {
   "cell_type": "code",
   "execution_count": 9,
   "id": "cd5247b7",
   "metadata": {},
   "outputs": [
    {
     "data": {
      "text/plain": [
       "array([1.])"
      ]
     },
     "execution_count": 9,
     "metadata": {},
     "output_type": "execute_result"
    }
   ],
   "source": [
    "model_rf.predict([[0, 36, 62, 0, 0, 148.35, 12.2, 16.81, 82, 1, 4, 1]])"
   ]
  },
  {
   "cell_type": "code",
   "execution_count": 10,
   "id": "14a83a06",
   "metadata": {},
   "outputs": [
    {
     "name": "stdout",
     "output_type": "stream",
     "text": [
      "              precision    recall  f1-score   support\n",
      "\n",
      "         0.0       0.92      0.98      0.95       521\n",
      "         1.0       0.80      0.44      0.57        79\n",
      "\n",
      "    accuracy                           0.91       600\n",
      "   macro avg       0.86      0.71      0.76       600\n",
      "weighted avg       0.90      0.91      0.90       600\n",
      "\n"
     ]
    }
   ],
   "source": [
    "print(classification_report(y_test, prediction_test))"
   ]
  },
  {
   "cell_type": "code",
   "execution_count": 11,
   "id": "c47ddc8b",
   "metadata": {},
   "outputs": [
    {
     "data": {
      "image/png": "[encoded data removed]",
      "text/plain": [
       "<Figure size 288x216 with 2 Axes>"
      ]
     },
     "metadata": {
      "needs_background": "light"
     },
     "output_type": "display_data"
    }
   ],
   "source": [
    "plt.figure(figsize=(4,3))\n",
    "sns.heatmap(confusion_matrix(y_test, prediction_test),\n",
    "                annot=True,fmt = \"d\",linecolor=\"k\",linewidths=3)\n",
    "\n",
    "plt.title(\" RANDOM FOREST CONFUSION MATRIX\",fontsize=14)\n",
    "plt.show()"
   ]
  },
  {
   "cell_type": "code",
   "execution_count": 12,
   "id": "9d2c55ba",
   "metadata": {},
   "outputs": [
    {
     "data": {
      "image/png": "[encoded data removed]",
      "text/plain": [
       "<Figure size 432x288 with 1 Axes>"
      ]
     },
     "metadata": {
      "needs_background": "light"
     },
     "output_type": "display_data"
    }
   ],
   "source": [
    "y_rfpred_prob = model_rf.predict_proba(X_test)[:,1]\n",
    "fpr_rf, tpr_rf, thresholds = roc_curve(y_test, y_rfpred_prob)\n",
    "plt.plot([0, 1], [0, 1], 'k--' )\n",
    "plt.plot(fpr_rf, tpr_rf, label='Random Forest',color = \"r\")\n",
    "plt.xlabel('False Positive Rate')\n",
    "plt.ylabel('True Positive Rate')\n",
    "plt.title('Random Forest ROC Curve',fontsize=16)\n",
    "plt.show();"
   ]
  },
  {
   "cell_type": "markdown",
   "id": "46b47e63",
   "metadata": {},
   "source": [
    "### Logistic Regression"
   ]
  },
  {
   "cell_type": "code",
   "execution_count": 13,
   "id": "c79d713b",
   "metadata": {},
   "outputs": [
    {
     "name": "stdout",
     "output_type": "stream",
     "text": [
      "Logistic Regression accuracy is : 0.8816666666666667\n"
     ]
    }
   ],
   "source": [
    "lr_model = LogisticRegression()\n",
    "lr_model.fit(X_train,y_train)\n",
    "accuracy_lr = lr_model.score(X_test,y_test)\n",
    "print(\"Logistic Regression accuracy is :\",accuracy_lr)"
   ]
  },
  {
   "cell_type": "code",
   "execution_count": 14,
   "id": "0a3b96d3",
   "metadata": {},
   "outputs": [
    {
     "name": "stdout",
     "output_type": "stream",
     "text": [
      "              precision    recall  f1-score   support\n",
      "\n",
      "         0.0       0.89      0.99      0.94       521\n",
      "         1.0       0.75      0.15      0.25        79\n",
      "\n",
      "    accuracy                           0.88       600\n",
      "   macro avg       0.82      0.57      0.59       600\n",
      "weighted avg       0.87      0.88      0.85       600\n",
      "\n"
     ]
    }
   ],
   "source": [
    "lr_pred= lr_model.predict(X_test)\n",
    "report = classification_report(y_test,lr_pred)\n",
    "print(report)"
   ]
  },
  {
   "cell_type": "code",
   "execution_count": 15,
   "id": "2680f468",
   "metadata": {},
   "outputs": [
    {
     "data": {
      "image/png": "[encoded data removed]",
      "text/plain": [
       "<Figure size 288x216 with 2 Axes>"
      ]
     },
     "metadata": {
      "needs_background": "light"
     },
     "output_type": "display_data"
    }
   ],
   "source": [
    "plt.figure(figsize=(4,3))\n",
    "sns.heatmap(confusion_matrix(y_test, lr_pred),\n",
    "                annot=True,fmt = \"d\",linecolor=\"k\",linewidths=3)\n",
    "    \n",
    "plt.title(\"LOGISTIC REGRESSION CONFUSION MATRIX\",fontsize=14)\n",
    "plt.show()"
   ]
  },
  {
   "cell_type": "code",
   "execution_count": 16,
   "id": "43bb23d8",
   "metadata": {},
   "outputs": [
    {
     "data": {
      "image/png": "[encoded data removed]",
      "text/plain": [
       "<Figure size 432x288 with 1 Axes>"
      ]
     },
     "metadata": {
      "needs_background": "light"
     },
     "output_type": "display_data"
    }
   ],
   "source": [
    "y_pred_prob = lr_model.predict_proba(X_test)[:,1]\n",
    "fpr, tpr, thresholds = roc_curve(y_test, y_pred_prob)\n",
    "plt.plot([0, 1], [0, 1], 'k--' )\n",
    "plt.plot(fpr, tpr, label='Logistic Regression',color = \"r\")\n",
    "plt.xlabel('False Positive Rate')\n",
    "plt.ylabel('True Positive Rate')\n",
    "plt.title('Logistic Regression ROC Curve',fontsize=16)\n",
    "plt.show();"
   ]
  },
  {
   "cell_type": "markdown",
   "id": "ce365039",
   "metadata": {},
   "source": [
    "### Decision Tree Classifier"
   ]
  },
  {
   "cell_type": "code",
   "execution_count": 17,
   "id": "7e617e46",
   "metadata": {},
   "outputs": [
    {
     "name": "stdout",
     "output_type": "stream",
     "text": [
      "Decision Tree accuracy is : 0.8716666666666667\n"
     ]
    }
   ],
   "source": [
    "dt_model = DecisionTreeClassifier()\n",
    "dt_model.fit(X_train,y_train)\n",
    "predictdt_y = dt_model.predict(X_test)\n",
    "accuracy_dt = dt_model.score(X_test,y_test)\n",
    "print(\"Decision Tree accuracy is :\",accuracy_dt)"
   ]
  },
  {
   "cell_type": "code",
   "execution_count": 18,
   "id": "ae2cf0d3",
   "metadata": {},
   "outputs": [
    {
     "name": "stdout",
     "output_type": "stream",
     "text": [
      "              precision    recall  f1-score   support\n",
      "\n",
      "         0.0       0.93      0.92      0.93       521\n",
      "         1.0       0.51      0.57      0.54        79\n",
      "\n",
      "    accuracy                           0.87       600\n",
      "   macro avg       0.72      0.74      0.73       600\n",
      "weighted avg       0.88      0.87      0.87       600\n",
      "\n"
     ]
    }
   ],
   "source": [
    "print(classification_report(y_test, predictdt_y))"
   ]
  },
  {
   "cell_type": "markdown",
   "id": "280ef395",
   "metadata": {},
   "source": [
    "### Adaboost Classifier"
   ]
  },
  {
   "cell_type": "code",
   "execution_count": 19,
   "id": "8d9a9bbc",
   "metadata": {},
   "outputs": [
    {
     "name": "stdout",
     "output_type": "stream",
     "text": [
      "AdaBoost Classifier accuracy\n"
     ]
    },
    {
     "data": {
      "text/plain": [
       "0.8716666666666667"
      ]
     },
     "execution_count": 19,
     "metadata": {},
     "output_type": "execute_result"
    }
   ],
   "source": [
    "a_model = AdaBoostClassifier()\n",
    "a_model.fit(X_train,y_train)\n",
    "a_preds = a_model.predict(X_test)\n",
    "print(\"AdaBoost Classifier accuracy\")\n",
    "metrics.accuracy_score(y_test, a_preds)"
   ]
  },
  {
   "cell_type": "code",
   "execution_count": 20,
   "id": "b5e8c306",
   "metadata": {},
   "outputs": [
    {
     "name": "stdout",
     "output_type": "stream",
     "text": [
      "              precision    recall  f1-score   support\n",
      "\n",
      "         0.0       0.90      0.96      0.93       521\n",
      "         1.0       0.52      0.28      0.36        79\n",
      "\n",
      "    accuracy                           0.87       600\n",
      "   macro avg       0.71      0.62      0.65       600\n",
      "weighted avg       0.85      0.87      0.85       600\n",
      "\n"
     ]
    }
   ],
   "source": [
    "print(classification_report(y_test, a_preds))"
   ]
  },
  {
   "cell_type": "code",
   "execution_count": 21,
   "id": "f7cbe5fa",
   "metadata": {},
   "outputs": [
    {
     "data": {
      "image/png": "[encoded data removed]",
      "text/plain": [
       "<Figure size 288x216 with 2 Axes>"
      ]
     },
     "metadata": {
      "needs_background": "light"
     },
     "output_type": "display_data"
    }
   ],
   "source": [
    "plt.figure(figsize=(4,3))\n",
    "sns.heatmap(confusion_matrix(y_test, a_preds),\n",
    "                annot=True,fmt = \"d\",linecolor=\"k\",linewidths=3)\n",
    "    \n",
    "plt.title(\"AdaBoost Classifier Confusion Matrix\",fontsize=14)\n",
    "plt.show()"
   ]
  },
  {
   "cell_type": "markdown",
   "id": "b8790d6f",
   "metadata": {},
   "source": [
    "### Gradientboost classifier"
   ]
  },
  {
   "cell_type": "code",
   "execution_count": 22,
   "id": "cd391327",
   "metadata": {},
   "outputs": [
    {
     "name": "stdout",
     "output_type": "stream",
     "text": [
      "Gradient Boosting Classifier 0.9116666666666666\n"
     ]
    }
   ],
   "source": [
    "gb = GradientBoostingClassifier()\n",
    "gb.fit(X_train, y_train)\n",
    "gb_pred = gb.predict(X_test)\n",
    "print(\"Gradient Boosting Classifier\", accuracy_score(y_test, gb_pred))\n"
   ]
  },
  {
   "cell_type": "markdown",
   "id": "8d6cd7fc",
   "metadata": {},
   "source": [
    " - The performance looks similar to that of RandomForest"
   ]
  },
  {
   "cell_type": "code",
   "execution_count": 23,
   "id": "8b9578b5",
   "metadata": {},
   "outputs": [
    {
     "name": "stdout",
     "output_type": "stream",
     "text": [
      "              precision    recall  f1-score   support\n",
      "\n",
      "         0.0       0.93      0.98      0.95       521\n",
      "         1.0       0.75      0.49      0.60        79\n",
      "\n",
      "    accuracy                           0.91       600\n",
      "   macro avg       0.84      0.73      0.77       600\n",
      "weighted avg       0.90      0.91      0.90       600\n",
      "\n"
     ]
    }
   ],
   "source": [
    "print(classification_report(y_test, gb_pred))"
   ]
  },
  {
   "cell_type": "code",
   "execution_count": 24,
   "id": "afab9331",
   "metadata": {},
   "outputs": [
    {
     "data": {
      "image/png": "[encoded data removed]",
      "text/plain": [
       "<Figure size 288x216 with 2 Axes>"
      ]
     },
     "metadata": {
      "needs_background": "light"
     },
     "output_type": "display_data"
    }
   ],
   "source": [
    "plt.figure(figsize=(4,3))\n",
    "sns.heatmap(confusion_matrix(y_test, gb_pred),\n",
    "                annot=True,fmt = \"d\",linecolor=\"k\",linewidths=3)\n",
    "    \n",
    "plt.title(\"Gradient Boosting Classifier Confusion Matrix\",fontsize=14)\n",
    "plt.show()"
   ]
  },
  {
   "cell_type": "markdown",
   "id": "21797f62",
   "metadata": {},
   "source": [
    "### Since, randomforest and gradient boosting classifier has best and almost equal performances, we'll serialize randomforest model"
   ]
  },
  {
   "cell_type": "code",
   "execution_count": 25,
   "id": "aab0cc24",
   "metadata": {},
   "outputs": [],
   "source": [
    "with open('model_rf.pkl', 'wb') as file:\n",
    "    pickle.dump(model_rf, file)"
   ]
  },
  {
   "cell_type": "code",
   "execution_count": 26,
   "id": "77374f11",
   "metadata": {},
   "outputs": [],
   "source": [
    "with open('model_rf.pkl', 'rb') as file:\n",
    "    model = pickle.load(file)"
   ]
  },
  {
   "cell_type": "code",
   "execution_count": 27,
   "id": "4db3ee11",
   "metadata": {},
   "outputs": [
    {
     "data": {
      "text/plain": [
       "array([1.])"
      ]
     },
     "execution_count": 27,
     "metadata": {},
     "output_type": "execute_result"
    }
   ],
   "source": [
    "model.predict([[0, 36, 62, 0, 0, 148.35, 12.2, 16.81, 82, 1, 4, 1]])"
   ]
  },
  {
   "cell_type": "code",
   "execution_count": 28,
   "id": "7bcc4021",
   "metadata": {},
   "outputs": [],
   "source": [
    "with open('standardization_scaler.pkl', 'rb') as file:\n",
    "    scaler = pickle.load(file)"
   ]
  }
 ],
 "metadata": {
  "kernelspec": {
   "display_name": "Python 3",
   "language": "python",
   "name": "python3"
  },
  "language_info": {
   "codemirror_mode": {
    "name": "ipython",
    "version": 3
   },
   "file_extension": ".py",
   "mimetype": "text/x-python",
   "name": "python",
   "nbconvert_exporter": "python",
   "pygments_lexer": "ipython3",
   "version": "3.8.8"
  }
 },
 "nbformat": 4,
 "nbformat_minor": 5
}
